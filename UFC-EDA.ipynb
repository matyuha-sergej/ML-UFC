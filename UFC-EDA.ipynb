{
 "cells": [
  {
   "cell_type": "code",
   "execution_count": 2,
   "metadata": {
    "collapsed": true
   },
   "outputs": [],
   "source": [
    "import numpy as np\n",
    "import seaborn as sns\n",
    "import pandas as pd\n",
    "import matplotlib.pyplot as plt"
   ]
  },
  {
   "cell_type": "code",
   "execution_count": 7,
   "outputs": [],
   "source": [
    "data = pd.read_csv(\"data/data.csv\", sep=',')\n",
    "fighter_details = pd.read_csv(\"data/fighter_details.csv\", sep=',')\n",
    "total_fight_data = pd.read_csv(\"data/total_fight_data.csv\", sep=';')"
   ],
   "metadata": {
    "collapsed": false,
    "pycharm": {
     "name": "#%%\n"
    }
   }
  },
  {
   "cell_type": "code",
   "execution_count": 8,
   "outputs": [
    {
     "data": {
      "text/plain": "          R_fighter           B_fighter       Referee        date  \\\n0     Derrick Lewis       Chris Daukaus    Mark Smith  2021-12-18   \n1  Dustin Stoltzfus  Gerald Meerschaert    Mark Smith  2021-12-18   \n2  Stephen Thompson      Belal Muhammad     Herb Dean  2021-12-18   \n3      Amanda Lemos         Angela Hill  Jason Herzog  2021-12-18   \n4    Diego Ferreira      Mateusz Gamrot  Jason Herzog  2021-12-18   \n\n                 location Winner  title_bout      weight_class  B_avg_KD  \\\n0  Las Vegas, Nevada, USA    Red       False       Heavyweight  1.500000   \n1  Las Vegas, Nevada, USA   Blue       False      Middleweight  0.031738   \n2  Las Vegas, Nevada, USA   Blue       False      Welterweight  0.000000   \n3  Las Vegas, Nevada, USA    Red       False  WomenStrawweight  0.062538   \n4  Las Vegas, Nevada, USA   Blue       False       Lightweight  0.250000   \n\n   B_avg_opp_KD  ...  R_win_by_Decision_Unanimous  R_win_by_KO/TKO  \\\n0      0.000000  ...                          2.0             12.0   \n1      0.188477  ...                          0.0              0.0   \n2      0.016235  ...                          6.0              5.0   \n3      0.000000  ...                          1.0              2.0   \n4      0.250000  ...                          3.0              3.0   \n\n   R_win_by_Submission  R_win_by_TKO_Doctor_Stoppage  R_Stance  R_Height_cms  \\\n0                  0.0                           0.0  Orthodox        190.50   \n1                  0.0                           0.0  Orthodox        182.88   \n2                  0.0                           0.0  Orthodox        182.88   \n3                  1.0                           0.0  Southpaw        162.56   \n4                  2.0                           0.0  Orthodox        175.26   \n\n   R_Reach_cms  R_Weight_lbs  B_age  R_age  \n0       200.66         260.0   32.0   36.0  \n1       190.50         185.0   34.0   30.0  \n2       190.50         170.0   33.0   38.0  \n3       165.10         115.0   36.0   34.0  \n4       187.96         155.0   31.0   36.0  \n\n[5 rows x 144 columns]",
      "text/html": "<div>\n<style scoped>\n    .dataframe tbody tr th:only-of-type {\n        vertical-align: middle;\n    }\n\n    .dataframe tbody tr th {\n        vertical-align: top;\n    }\n\n    .dataframe thead th {\n        text-align: right;\n    }\n</style>\n<table border=\"1\" class=\"dataframe\">\n  <thead>\n    <tr style=\"text-align: right;\">\n      <th></th>\n      <th>R_fighter</th>\n      <th>B_fighter</th>\n      <th>Referee</th>\n      <th>date</th>\n      <th>location</th>\n      <th>Winner</th>\n      <th>title_bout</th>\n      <th>weight_class</th>\n      <th>B_avg_KD</th>\n      <th>B_avg_opp_KD</th>\n      <th>...</th>\n      <th>R_win_by_Decision_Unanimous</th>\n      <th>R_win_by_KO/TKO</th>\n      <th>R_win_by_Submission</th>\n      <th>R_win_by_TKO_Doctor_Stoppage</th>\n      <th>R_Stance</th>\n      <th>R_Height_cms</th>\n      <th>R_Reach_cms</th>\n      <th>R_Weight_lbs</th>\n      <th>B_age</th>\n      <th>R_age</th>\n    </tr>\n  </thead>\n  <tbody>\n    <tr>\n      <th>0</th>\n      <td>Derrick Lewis</td>\n      <td>Chris Daukaus</td>\n      <td>Mark Smith</td>\n      <td>2021-12-18</td>\n      <td>Las Vegas, Nevada, USA</td>\n      <td>Red</td>\n      <td>False</td>\n      <td>Heavyweight</td>\n      <td>1.500000</td>\n      <td>0.000000</td>\n      <td>...</td>\n      <td>2.0</td>\n      <td>12.0</td>\n      <td>0.0</td>\n      <td>0.0</td>\n      <td>Orthodox</td>\n      <td>190.50</td>\n      <td>200.66</td>\n      <td>260.0</td>\n      <td>32.0</td>\n      <td>36.0</td>\n    </tr>\n    <tr>\n      <th>1</th>\n      <td>Dustin Stoltzfus</td>\n      <td>Gerald Meerschaert</td>\n      <td>Mark Smith</td>\n      <td>2021-12-18</td>\n      <td>Las Vegas, Nevada, USA</td>\n      <td>Blue</td>\n      <td>False</td>\n      <td>Middleweight</td>\n      <td>0.031738</td>\n      <td>0.188477</td>\n      <td>...</td>\n      <td>0.0</td>\n      <td>0.0</td>\n      <td>0.0</td>\n      <td>0.0</td>\n      <td>Orthodox</td>\n      <td>182.88</td>\n      <td>190.50</td>\n      <td>185.0</td>\n      <td>34.0</td>\n      <td>30.0</td>\n    </tr>\n    <tr>\n      <th>2</th>\n      <td>Stephen Thompson</td>\n      <td>Belal Muhammad</td>\n      <td>Herb Dean</td>\n      <td>2021-12-18</td>\n      <td>Las Vegas, Nevada, USA</td>\n      <td>Blue</td>\n      <td>False</td>\n      <td>Welterweight</td>\n      <td>0.000000</td>\n      <td>0.016235</td>\n      <td>...</td>\n      <td>6.0</td>\n      <td>5.0</td>\n      <td>0.0</td>\n      <td>0.0</td>\n      <td>Orthodox</td>\n      <td>182.88</td>\n      <td>190.50</td>\n      <td>170.0</td>\n      <td>33.0</td>\n      <td>38.0</td>\n    </tr>\n    <tr>\n      <th>3</th>\n      <td>Amanda Lemos</td>\n      <td>Angela Hill</td>\n      <td>Jason Herzog</td>\n      <td>2021-12-18</td>\n      <td>Las Vegas, Nevada, USA</td>\n      <td>Red</td>\n      <td>False</td>\n      <td>WomenStrawweight</td>\n      <td>0.062538</td>\n      <td>0.000000</td>\n      <td>...</td>\n      <td>1.0</td>\n      <td>2.0</td>\n      <td>1.0</td>\n      <td>0.0</td>\n      <td>Southpaw</td>\n      <td>162.56</td>\n      <td>165.10</td>\n      <td>115.0</td>\n      <td>36.0</td>\n      <td>34.0</td>\n    </tr>\n    <tr>\n      <th>4</th>\n      <td>Diego Ferreira</td>\n      <td>Mateusz Gamrot</td>\n      <td>Jason Herzog</td>\n      <td>2021-12-18</td>\n      <td>Las Vegas, Nevada, USA</td>\n      <td>Blue</td>\n      <td>False</td>\n      <td>Lightweight</td>\n      <td>0.250000</td>\n      <td>0.250000</td>\n      <td>...</td>\n      <td>3.0</td>\n      <td>3.0</td>\n      <td>2.0</td>\n      <td>0.0</td>\n      <td>Orthodox</td>\n      <td>175.26</td>\n      <td>187.96</td>\n      <td>155.0</td>\n      <td>31.0</td>\n      <td>36.0</td>\n    </tr>\n  </tbody>\n</table>\n<p>5 rows × 144 columns</p>\n</div>"
     },
     "execution_count": 8,
     "metadata": {},
     "output_type": "execute_result"
    }
   ],
   "source": [
    "data.head(5)"
   ],
   "metadata": {
    "collapsed": false,
    "pycharm": {
     "name": "#%%\n"
    }
   }
  },
  {
   "cell_type": "code",
   "execution_count": 9,
   "outputs": [
    {
     "data": {
      "text/plain": "    fighter_name  Height    Weight Reach    Stance           DOB  SLpM  \\\n0      Tom Aaron     NaN  155 lbs.   NaN       NaN  Jul 13, 1978  0.00   \n1   Danny Abbadi  5' 11\"  155 lbs.   NaN  Orthodox  Jul 03, 1983  3.29   \n2     Daichi Abe  5' 11\"  170 lbs.   71\"  Orthodox  Nov 27, 1991  3.80   \n3     Papy Abedi  5' 11\"  185 lbs.   NaN  Southpaw  Jun 30, 1978  2.80   \n4  Ricardo Abreu  5' 11\"  185 lbs.   NaN  Orthodox  Apr 27, 1984  3.79   \n\n  Str_Acc  SApM Str_Def  TD_Avg TD_Acc TD_Def  Sub_Avg  \n0      0%  0.00      0%    0.00     0%     0%      0.0  \n1     38%  4.41     57%    0.00     0%    77%      0.0  \n2     33%  4.49     56%    0.33    50%     0%      0.0  \n3     55%  3.15     48%    3.47    57%    50%      1.3  \n4     31%  3.98     68%    2.13    42%   100%      0.7  ",
      "text/html": "<div>\n<style scoped>\n    .dataframe tbody tr th:only-of-type {\n        vertical-align: middle;\n    }\n\n    .dataframe tbody tr th {\n        vertical-align: top;\n    }\n\n    .dataframe thead th {\n        text-align: right;\n    }\n</style>\n<table border=\"1\" class=\"dataframe\">\n  <thead>\n    <tr style=\"text-align: right;\">\n      <th></th>\n      <th>fighter_name</th>\n      <th>Height</th>\n      <th>Weight</th>\n      <th>Reach</th>\n      <th>Stance</th>\n      <th>DOB</th>\n      <th>SLpM</th>\n      <th>Str_Acc</th>\n      <th>SApM</th>\n      <th>Str_Def</th>\n      <th>TD_Avg</th>\n      <th>TD_Acc</th>\n      <th>TD_Def</th>\n      <th>Sub_Avg</th>\n    </tr>\n  </thead>\n  <tbody>\n    <tr>\n      <th>0</th>\n      <td>Tom Aaron</td>\n      <td>NaN</td>\n      <td>155 lbs.</td>\n      <td>NaN</td>\n      <td>NaN</td>\n      <td>Jul 13, 1978</td>\n      <td>0.00</td>\n      <td>0%</td>\n      <td>0.00</td>\n      <td>0%</td>\n      <td>0.00</td>\n      <td>0%</td>\n      <td>0%</td>\n      <td>0.0</td>\n    </tr>\n    <tr>\n      <th>1</th>\n      <td>Danny Abbadi</td>\n      <td>5' 11\"</td>\n      <td>155 lbs.</td>\n      <td>NaN</td>\n      <td>Orthodox</td>\n      <td>Jul 03, 1983</td>\n      <td>3.29</td>\n      <td>38%</td>\n      <td>4.41</td>\n      <td>57%</td>\n      <td>0.00</td>\n      <td>0%</td>\n      <td>77%</td>\n      <td>0.0</td>\n    </tr>\n    <tr>\n      <th>2</th>\n      <td>Daichi Abe</td>\n      <td>5' 11\"</td>\n      <td>170 lbs.</td>\n      <td>71\"</td>\n      <td>Orthodox</td>\n      <td>Nov 27, 1991</td>\n      <td>3.80</td>\n      <td>33%</td>\n      <td>4.49</td>\n      <td>56%</td>\n      <td>0.33</td>\n      <td>50%</td>\n      <td>0%</td>\n      <td>0.0</td>\n    </tr>\n    <tr>\n      <th>3</th>\n      <td>Papy Abedi</td>\n      <td>5' 11\"</td>\n      <td>185 lbs.</td>\n      <td>NaN</td>\n      <td>Southpaw</td>\n      <td>Jun 30, 1978</td>\n      <td>2.80</td>\n      <td>55%</td>\n      <td>3.15</td>\n      <td>48%</td>\n      <td>3.47</td>\n      <td>57%</td>\n      <td>50%</td>\n      <td>1.3</td>\n    </tr>\n    <tr>\n      <th>4</th>\n      <td>Ricardo Abreu</td>\n      <td>5' 11\"</td>\n      <td>185 lbs.</td>\n      <td>NaN</td>\n      <td>Orthodox</td>\n      <td>Apr 27, 1984</td>\n      <td>3.79</td>\n      <td>31%</td>\n      <td>3.98</td>\n      <td>68%</td>\n      <td>2.13</td>\n      <td>42%</td>\n      <td>100%</td>\n      <td>0.7</td>\n    </tr>\n  </tbody>\n</table>\n</div>"
     },
     "execution_count": 9,
     "metadata": {},
     "output_type": "execute_result"
    }
   ],
   "source": [
    "fighter_details.head(5)"
   ],
   "metadata": {
    "collapsed": false,
    "pycharm": {
     "name": "#%%\n"
    }
   }
  },
  {
   "cell_type": "code",
   "execution_count": 6,
   "outputs": [
    {
     "data": {
      "text/plain": "          R_fighter           B_fighter  R_KD  B_KD R_SIG_STR. B_SIG_STR.  \\\n0     Derrick Lewis       Chris Daukaus     1     0   14 of 28   10 of 19   \n1  Dustin Stoltzfus  Gerald Meerschaert     0     0   12 of 32   11 of 22   \n2  Stephen Thompson      Belal Muhammad     0     0   19 of 32   58 of 95   \n3      Amanda Lemos         Angela Hill     1     0  50 of 114  48 of 106   \n4    Diego Ferreira      Mateusz Gamrot     0     0  36 of 101   25 of 58   \n\n  R_SIG_STR_pct B_SIG_STR_pct R_TOTAL_STR. B_TOTAL_STR.  ...  B_GROUND  \\\n0           50%           52%     14 of 28     10 of 19  ...    0 of 0   \n1           37%           50%     51 of 72     19 of 30  ...    0 of 0   \n2           59%           61%     51 of 67   171 of 271  ...  55 of 84   \n3           43%           45%    68 of 135    74 of 138  ...    0 of 0   \n4           35%           43%    37 of 104     31 of 67  ...    3 of 4   \n\n                 win_by last_round last_round_time             Format  \\\n0                KO/TKO          1            3:36  5 Rnd (5-5-5-5-5)   \n1            Submission          3            2:58      3 Rnd (5-5-5)   \n2  Decision - Unanimous          3            5:00      3 Rnd (5-5-5)   \n3      Decision - Split          3            5:00      3 Rnd (5-5-5)   \n4                KO/TKO          2            3:26      3 Rnd (5-5-5)   \n\n        Referee               date                location  \\\n0    Mark Smith  December 18, 2021  Las Vegas, Nevada, USA   \n1    Mark Smith  December 18, 2021  Las Vegas, Nevada, USA   \n2     Herb Dean  December 18, 2021  Las Vegas, Nevada, USA   \n3  Jason Herzog  December 18, 2021  Las Vegas, Nevada, USA   \n4  Jason Herzog  December 18, 2021  Las Vegas, Nevada, USA   \n\n                 Fight_type              Winner  \n0          Heavyweight Bout       Derrick Lewis  \n1         Middleweight Bout  Gerald Meerschaert  \n2         Welterweight Bout      Belal Muhammad  \n3  Women's Strawweight Bout        Amanda Lemos  \n4          Lightweight Bout      Mateusz Gamrot  \n\n[5 rows x 41 columns]",
      "text/html": "<div>\n<style scoped>\n    .dataframe tbody tr th:only-of-type {\n        vertical-align: middle;\n    }\n\n    .dataframe tbody tr th {\n        vertical-align: top;\n    }\n\n    .dataframe thead th {\n        text-align: right;\n    }\n</style>\n<table border=\"1\" class=\"dataframe\">\n  <thead>\n    <tr style=\"text-align: right;\">\n      <th></th>\n      <th>R_fighter</th>\n      <th>B_fighter</th>\n      <th>R_KD</th>\n      <th>B_KD</th>\n      <th>R_SIG_STR.</th>\n      <th>B_SIG_STR.</th>\n      <th>R_SIG_STR_pct</th>\n      <th>B_SIG_STR_pct</th>\n      <th>R_TOTAL_STR.</th>\n      <th>B_TOTAL_STR.</th>\n      <th>...</th>\n      <th>B_GROUND</th>\n      <th>win_by</th>\n      <th>last_round</th>\n      <th>last_round_time</th>\n      <th>Format</th>\n      <th>Referee</th>\n      <th>date</th>\n      <th>location</th>\n      <th>Fight_type</th>\n      <th>Winner</th>\n    </tr>\n  </thead>\n  <tbody>\n    <tr>\n      <th>0</th>\n      <td>Derrick Lewis</td>\n      <td>Chris Daukaus</td>\n      <td>1</td>\n      <td>0</td>\n      <td>14 of 28</td>\n      <td>10 of 19</td>\n      <td>50%</td>\n      <td>52%</td>\n      <td>14 of 28</td>\n      <td>10 of 19</td>\n      <td>...</td>\n      <td>0 of 0</td>\n      <td>KO/TKO</td>\n      <td>1</td>\n      <td>3:36</td>\n      <td>5 Rnd (5-5-5-5-5)</td>\n      <td>Mark Smith</td>\n      <td>December 18, 2021</td>\n      <td>Las Vegas, Nevada, USA</td>\n      <td>Heavyweight Bout</td>\n      <td>Derrick Lewis</td>\n    </tr>\n    <tr>\n      <th>1</th>\n      <td>Dustin Stoltzfus</td>\n      <td>Gerald Meerschaert</td>\n      <td>0</td>\n      <td>0</td>\n      <td>12 of 32</td>\n      <td>11 of 22</td>\n      <td>37%</td>\n      <td>50%</td>\n      <td>51 of 72</td>\n      <td>19 of 30</td>\n      <td>...</td>\n      <td>0 of 0</td>\n      <td>Submission</td>\n      <td>3</td>\n      <td>2:58</td>\n      <td>3 Rnd (5-5-5)</td>\n      <td>Mark Smith</td>\n      <td>December 18, 2021</td>\n      <td>Las Vegas, Nevada, USA</td>\n      <td>Middleweight Bout</td>\n      <td>Gerald Meerschaert</td>\n    </tr>\n    <tr>\n      <th>2</th>\n      <td>Stephen Thompson</td>\n      <td>Belal Muhammad</td>\n      <td>0</td>\n      <td>0</td>\n      <td>19 of 32</td>\n      <td>58 of 95</td>\n      <td>59%</td>\n      <td>61%</td>\n      <td>51 of 67</td>\n      <td>171 of 271</td>\n      <td>...</td>\n      <td>55 of 84</td>\n      <td>Decision - Unanimous</td>\n      <td>3</td>\n      <td>5:00</td>\n      <td>3 Rnd (5-5-5)</td>\n      <td>Herb Dean</td>\n      <td>December 18, 2021</td>\n      <td>Las Vegas, Nevada, USA</td>\n      <td>Welterweight Bout</td>\n      <td>Belal Muhammad</td>\n    </tr>\n    <tr>\n      <th>3</th>\n      <td>Amanda Lemos</td>\n      <td>Angela Hill</td>\n      <td>1</td>\n      <td>0</td>\n      <td>50 of 114</td>\n      <td>48 of 106</td>\n      <td>43%</td>\n      <td>45%</td>\n      <td>68 of 135</td>\n      <td>74 of 138</td>\n      <td>...</td>\n      <td>0 of 0</td>\n      <td>Decision - Split</td>\n      <td>3</td>\n      <td>5:00</td>\n      <td>3 Rnd (5-5-5)</td>\n      <td>Jason Herzog</td>\n      <td>December 18, 2021</td>\n      <td>Las Vegas, Nevada, USA</td>\n      <td>Women's Strawweight Bout</td>\n      <td>Amanda Lemos</td>\n    </tr>\n    <tr>\n      <th>4</th>\n      <td>Diego Ferreira</td>\n      <td>Mateusz Gamrot</td>\n      <td>0</td>\n      <td>0</td>\n      <td>36 of 101</td>\n      <td>25 of 58</td>\n      <td>35%</td>\n      <td>43%</td>\n      <td>37 of 104</td>\n      <td>31 of 67</td>\n      <td>...</td>\n      <td>3 of 4</td>\n      <td>KO/TKO</td>\n      <td>2</td>\n      <td>3:26</td>\n      <td>3 Rnd (5-5-5)</td>\n      <td>Jason Herzog</td>\n      <td>December 18, 2021</td>\n      <td>Las Vegas, Nevada, USA</td>\n      <td>Lightweight Bout</td>\n      <td>Mateusz Gamrot</td>\n    </tr>\n  </tbody>\n</table>\n<p>5 rows × 41 columns</p>\n</div>"
     },
     "execution_count": 6,
     "metadata": {},
     "output_type": "execute_result"
    }
   ],
   "source": [
    "total_fight_data.head(5)"
   ],
   "metadata": {
    "collapsed": false,
    "pycharm": {
     "name": "#%%\n"
    }
   }
  },
  {
   "cell_type": "code",
   "execution_count": null,
   "outputs": [],
   "source": [],
   "metadata": {
    "collapsed": false,
    "pycharm": {
     "name": "#%%\n"
    }
   }
  }
 ],
 "metadata": {
  "kernelspec": {
   "display_name": "Python 3",
   "language": "python",
   "name": "python3"
  },
  "language_info": {
   "codemirror_mode": {
    "name": "ipython",
    "version": 2
   },
   "file_extension": ".py",
   "mimetype": "text/x-python",
   "name": "python",
   "nbconvert_exporter": "python",
   "pygments_lexer": "ipython2",
   "version": "2.7.6"
  }
 },
 "nbformat": 4,
 "nbformat_minor": 0
}