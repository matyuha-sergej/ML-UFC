{
 "cells": [
  {
   "cell_type": "markdown",
   "source": [
    "# UFC 270 ПРЕДСКАЗАНИЕ\n",
    "\n",
    "В этом блокноте я использую следующие алгоритмы построения модели:\n",
    "\n",
    "    Gaussian Naive Bayes\n",
    "    Logistic Regression\n",
    "    Decision Tree\n",
    "    KNN\n",
    "    Random Forest\n",
    "    Support Vector Classifier\n",
    "    XGBoost\n",
    "    Artificial Neural Network\n",
    "\n",
    "Данные были спарсены с сайта ufcstats 31.12.2021.\n",
    "\n",
    "После обучения модели с наивысшей оценкой точности (с использованием перекрестной проверки) применятся к предстоящему событию (23 января 2022 года), чтобы сделать прогнозы победителей поединков."
   ],
   "metadata": {
    "collapsed": false,
    "pycharm": {
     "name": "#%% md\n"
    }
   }
  },
  {
   "cell_type": "markdown",
   "source": [
    "# Импорт библиотек"
   ],
   "metadata": {
    "collapsed": false
   }
  },
  {
   "cell_type": "code",
   "execution_count": 4,
   "outputs": [
    {
     "name": "stderr",
     "output_type": "stream",
     "text": [
      "2021-12-31 12:57:51.729164: W tensorflow/stream_executor/platform/default/dso_loader.cc:64] Could not load dynamic library 'libcudart.so.11.0'; dlerror: libcudart.so.11.0: cannot open shared object file: No such file or directory\n",
      "2021-12-31 12:57:51.729211: I tensorflow/stream_executor/cuda/cudart_stub.cc:29] Ignore above cudart dlerror if you do not have a GPU set up on your machine.\n"
     ]
    }
   ],
   "source": [
    "import numpy as np\n",
    "import pandas as pd\n",
    "import matplotlib.pyplot as plt\n",
    "import seaborn as sns\n",
    "\n",
    "from sklearn.model_selection import train_test_split\n",
    "from sklearn.model_selection import KFold\n",
    "from sklearn import tree\n",
    "from sklearn.metrics import accuracy_score\n",
    "from sklearn.metrics import confusion_matrix\n",
    "from sklearn.model_selection import StratifiedKFold\n",
    "from sklearn.model_selection import cross_val_score\n",
    "from sklearn.naive_bayes import GaussianNB\n",
    "from sklearn.linear_model import LogisticRegression\n",
    "from sklearn.neighbors import KNeighborsClassifier\n",
    "from sklearn.ensemble import RandomForestClassifier\n",
    "from sklearn.svm import SVC\n",
    "from sklearn.preprocessing import LabelEncoder\n",
    "from sklearn.metrics import confusion_matrix\n",
    "from sklearn.metrics import plot_confusion_matrix\n",
    "from sklearn.metrics import accuracy_score\n",
    "\n",
    "import xgboost\n",
    "from xgboost import XGBClassifier\n",
    "\n",
    "import keras\n",
    "from keras.models import Sequential\n",
    "from keras.layers import Dense\n",
    "from keras import layers, models, optimizers\n",
    "\n",
    "\n"
   ],
   "metadata": {
    "collapsed": false,
    "pycharm": {
     "name": "#%%\n"
    }
   }
  },
  {
   "cell_type": "markdown",
   "source": [
    "# Импорт и очистка данных для использования в моделях"
   ],
   "metadata": {
    "collapsed": false,
    "pycharm": {
     "name": "#%% md\n"
    }
   }
  },
  {
   "cell_type": "code",
   "execution_count": 19,
   "outputs": [],
   "source": [
    "data = pd.read_csv(\"data/data.csv\", sep=',')"
   ],
   "metadata": {
    "collapsed": false,
    "pycharm": {
     "name": "#%%\n"
    }
   }
  },
  {
   "cell_type": "code",
   "execution_count": 6,
   "outputs": [
    {
     "data": {
      "text/plain": "          R_fighter           B_fighter       Referee        date  \\\n0     Derrick Lewis       Chris Daukaus    Mark Smith  2021-12-18   \n1  Dustin Stoltzfus  Gerald Meerschaert    Mark Smith  2021-12-18   \n2  Stephen Thompson      Belal Muhammad     Herb Dean  2021-12-18   \n3      Amanda Lemos         Angela Hill  Jason Herzog  2021-12-18   \n4    Diego Ferreira      Mateusz Gamrot  Jason Herzog  2021-12-18   \n\n                 location Winner  title_bout      weight_class  B_avg_KD  \\\n0  Las Vegas, Nevada, USA    Red       False       Heavyweight  1.500000   \n1  Las Vegas, Nevada, USA   Blue       False      Middleweight  0.031738   \n2  Las Vegas, Nevada, USA   Blue       False      Welterweight  0.000000   \n3  Las Vegas, Nevada, USA    Red       False  WomenStrawweight  0.062538   \n4  Las Vegas, Nevada, USA   Blue       False       Lightweight  0.250000   \n\n   B_avg_opp_KD  ...  R_win_by_Decision_Unanimous  R_win_by_KO/TKO  \\\n0      0.000000  ...                          2.0             12.0   \n1      0.188477  ...                          0.0              0.0   \n2      0.016235  ...                          6.0              5.0   \n3      0.000000  ...                          1.0              2.0   \n4      0.250000  ...                          3.0              3.0   \n\n   R_win_by_Submission  R_win_by_TKO_Doctor_Stoppage  R_Stance  R_Height_cms  \\\n0                  0.0                           0.0  Orthodox        190.50   \n1                  0.0                           0.0  Orthodox        182.88   \n2                  0.0                           0.0  Orthodox        182.88   \n3                  1.0                           0.0  Southpaw        162.56   \n4                  2.0                           0.0  Orthodox        175.26   \n\n   R_Reach_cms  R_Weight_lbs  B_age  R_age  \n0       200.66         260.0   32.0   36.0  \n1       190.50         185.0   34.0   30.0  \n2       190.50         170.0   33.0   38.0  \n3       165.10         115.0   36.0   34.0  \n4       187.96         155.0   31.0   36.0  \n\n[5 rows x 144 columns]",
      "text/html": "<div>\n<style scoped>\n    .dataframe tbody tr th:only-of-type {\n        vertical-align: middle;\n    }\n\n    .dataframe tbody tr th {\n        vertical-align: top;\n    }\n\n    .dataframe thead th {\n        text-align: right;\n    }\n</style>\n<table border=\"1\" class=\"dataframe\">\n  <thead>\n    <tr style=\"text-align: right;\">\n      <th></th>\n      <th>R_fighter</th>\n      <th>B_fighter</th>\n      <th>Referee</th>\n      <th>date</th>\n      <th>location</th>\n      <th>Winner</th>\n      <th>title_bout</th>\n      <th>weight_class</th>\n      <th>B_avg_KD</th>\n      <th>B_avg_opp_KD</th>\n      <th>...</th>\n      <th>R_win_by_Decision_Unanimous</th>\n      <th>R_win_by_KO/TKO</th>\n      <th>R_win_by_Submission</th>\n      <th>R_win_by_TKO_Doctor_Stoppage</th>\n      <th>R_Stance</th>\n      <th>R_Height_cms</th>\n      <th>R_Reach_cms</th>\n      <th>R_Weight_lbs</th>\n      <th>B_age</th>\n      <th>R_age</th>\n    </tr>\n  </thead>\n  <tbody>\n    <tr>\n      <th>0</th>\n      <td>Derrick Lewis</td>\n      <td>Chris Daukaus</td>\n      <td>Mark Smith</td>\n      <td>2021-12-18</td>\n      <td>Las Vegas, Nevada, USA</td>\n      <td>Red</td>\n      <td>False</td>\n      <td>Heavyweight</td>\n      <td>1.500000</td>\n      <td>0.000000</td>\n      <td>...</td>\n      <td>2.0</td>\n      <td>12.0</td>\n      <td>0.0</td>\n      <td>0.0</td>\n      <td>Orthodox</td>\n      <td>190.50</td>\n      <td>200.66</td>\n      <td>260.0</td>\n      <td>32.0</td>\n      <td>36.0</td>\n    </tr>\n    <tr>\n      <th>1</th>\n      <td>Dustin Stoltzfus</td>\n      <td>Gerald Meerschaert</td>\n      <td>Mark Smith</td>\n      <td>2021-12-18</td>\n      <td>Las Vegas, Nevada, USA</td>\n      <td>Blue</td>\n      <td>False</td>\n      <td>Middleweight</td>\n      <td>0.031738</td>\n      <td>0.188477</td>\n      <td>...</td>\n      <td>0.0</td>\n      <td>0.0</td>\n      <td>0.0</td>\n      <td>0.0</td>\n      <td>Orthodox</td>\n      <td>182.88</td>\n      <td>190.50</td>\n      <td>185.0</td>\n      <td>34.0</td>\n      <td>30.0</td>\n    </tr>\n    <tr>\n      <th>2</th>\n      <td>Stephen Thompson</td>\n      <td>Belal Muhammad</td>\n      <td>Herb Dean</td>\n      <td>2021-12-18</td>\n      <td>Las Vegas, Nevada, USA</td>\n      <td>Blue</td>\n      <td>False</td>\n      <td>Welterweight</td>\n      <td>0.000000</td>\n      <td>0.016235</td>\n      <td>...</td>\n      <td>6.0</td>\n      <td>5.0</td>\n      <td>0.0</td>\n      <td>0.0</td>\n      <td>Orthodox</td>\n      <td>182.88</td>\n      <td>190.50</td>\n      <td>170.0</td>\n      <td>33.0</td>\n      <td>38.0</td>\n    </tr>\n    <tr>\n      <th>3</th>\n      <td>Amanda Lemos</td>\n      <td>Angela Hill</td>\n      <td>Jason Herzog</td>\n      <td>2021-12-18</td>\n      <td>Las Vegas, Nevada, USA</td>\n      <td>Red</td>\n      <td>False</td>\n      <td>WomenStrawweight</td>\n      <td>0.062538</td>\n      <td>0.000000</td>\n      <td>...</td>\n      <td>1.0</td>\n      <td>2.0</td>\n      <td>1.0</td>\n      <td>0.0</td>\n      <td>Southpaw</td>\n      <td>162.56</td>\n      <td>165.10</td>\n      <td>115.0</td>\n      <td>36.0</td>\n      <td>34.0</td>\n    </tr>\n    <tr>\n      <th>4</th>\n      <td>Diego Ferreira</td>\n      <td>Mateusz Gamrot</td>\n      <td>Jason Herzog</td>\n      <td>2021-12-18</td>\n      <td>Las Vegas, Nevada, USA</td>\n      <td>Blue</td>\n      <td>False</td>\n      <td>Lightweight</td>\n      <td>0.250000</td>\n      <td>0.250000</td>\n      <td>...</td>\n      <td>3.0</td>\n      <td>3.0</td>\n      <td>2.0</td>\n      <td>0.0</td>\n      <td>Orthodox</td>\n      <td>175.26</td>\n      <td>187.96</td>\n      <td>155.0</td>\n      <td>31.0</td>\n      <td>36.0</td>\n    </tr>\n  </tbody>\n</table>\n<p>5 rows × 144 columns</p>\n</div>"
     },
     "execution_count": 6,
     "metadata": {},
     "output_type": "execute_result"
    }
   ],
   "source": [
    "data.head(5)"
   ],
   "metadata": {
    "collapsed": false,
    "pycharm": {
     "name": "#%%\n"
    }
   }
  },
  {
   "cell_type": "code",
   "execution_count": 7,
   "outputs": [
    {
     "name": "stdout",
     "output_type": "stream",
     "text": [
      "<class 'pandas.core.frame.DataFrame'>\n",
      "RangeIndex: 6405 entries, 0 to 6404\n",
      "Columns: 144 entries, R_fighter to R_age\n",
      "dtypes: bool(1), float64(118), int64(16), object(9)\n",
      "memory usage: 7.0+ MB\n"
     ]
    }
   ],
   "source": [
    "data.info()"
   ],
   "metadata": {
    "collapsed": false,
    "pycharm": {
     "name": "#%%\n"
    }
   }
  },
  {
   "cell_type": "code",
   "execution_count": 8,
   "outputs": [
    {
     "data": {
      "text/plain": "Text(0.5, 1.0, 'Пропущенные значения')"
     },
     "execution_count": 8,
     "metadata": {},
     "output_type": "execute_result"
    },
    {
     "data": {
      "text/plain": "<Figure size 432x288 with 1 Axes>",
      "image/png": "[encoded data removed]"
     },
     "metadata": {
      "needs_background": "light"
     },
     "output_type": "display_data"
    }
   ],
   "source": [
    "sns.heatmap(data.isnull(), cbar = False).set_title(\"Пропущенные значения\")"
   ],
   "metadata": {
    "collapsed": false,
    "pycharm": {
     "name": "#%%\n"
    }
   }
  },
  {
   "cell_type": "code",
   "execution_count": 10,
   "outputs": [
    {
     "data": {
      "text/plain": "R_fighter         0\nB_fighter         0\nReferee          32\ndate              0\nlocation          0\n               ... \nR_Height_cms     11\nR_Reach_cms     408\nR_Weight_lbs      9\nB_age           172\nR_age            70\nLength: 144, dtype: int64"
     },
     "execution_count": 10,
     "metadata": {},
     "output_type": "execute_result"
    }
   ],
   "source": [
    "data.isnull().sum()"
   ],
   "metadata": {
    "collapsed": false,
    "pycharm": {
     "name": "#%%\n"
    }
   }
  },
  {
   "cell_type": "code",
   "execution_count": 27,
   "outputs": [],
   "source": [
    "data_drop = data.loc[data['B_total_time_fought(seconds)'].isnull()]"
   ],
   "metadata": {
    "collapsed": false,
    "pycharm": {
     "name": "#%%\n"
    }
   }
  },
  {
   "cell_type": "code",
   "execution_count": 28,
   "outputs": [],
   "source": [
    "data = data[~data.index.isin(data_drop.index)]"
   ],
   "metadata": {
    "collapsed": false,
    "pycharm": {
     "name": "#%%\n"
    }
   }
  },
  {
   "cell_type": "code",
   "execution_count": 29,
   "outputs": [
    {
     "data": {
      "text/plain": "R_fighter         0\nB_fighter         0\nReferee          25\ndate              0\nlocation          0\n               ... \nR_Height_cms      6\nR_Reach_cms     190\nR_Weight_lbs      5\nB_age            64\nR_age            19\nLength: 144, dtype: int64"
     },
     "execution_count": 29,
     "metadata": {},
     "output_type": "execute_result"
    }
   ],
   "source": [
    "data.isnull().sum()"
   ],
   "metadata": {
    "collapsed": false,
    "pycharm": {
     "name": "#%%\n"
    }
   }
  },
  {
   "cell_type": "code",
   "execution_count": 30,
   "outputs": [
    {
     "name": "stdout",
     "output_type": "stream",
     "text": [
      "<class 'pandas.core.frame.DataFrame'>\n",
      "Int64Index: 4930 entries, 0 to 6395\n",
      "Columns: 144 entries, R_fighter to R_age\n",
      "dtypes: bool(1), float64(118), int64(16), object(9)\n",
      "memory usage: 5.4+ MB\n"
     ]
    }
   ],
   "source": [
    "data.info()"
   ],
   "metadata": {
    "collapsed": false,
    "pycharm": {
     "name": "#%%\n"
    }
   }
  },
  {
   "cell_type": "code",
   "execution_count": null,
   "outputs": [],
   "source": [],
   "metadata": {
    "collapsed": false,
    "pycharm": {
     "name": "#%%\n"
    }
   }
  },
  {
   "cell_type": "code",
   "execution_count": null,
   "outputs": [],
   "source": [],
   "metadata": {
    "collapsed": false,
    "pycharm": {
     "name": "#%%\n"
    }
   }
  }
 ],
 "metadata": {
  "kernelspec": {
   "display_name": "Python 3",
   "language": "python",
   "name": "python3"
  },
  "language_info": {
   "codemirror_mode": {
    "name": "ipython",
    "version": 2
   },
   "file_extension": ".py",
   "mimetype": "text/x-python",
   "name": "python",
   "nbconvert_exporter": "python",
   "pygments_lexer": "ipython2",
   "version": "2.7.6"
  }
 },
 "nbformat": 4,
 "nbformat_minor": 0
}